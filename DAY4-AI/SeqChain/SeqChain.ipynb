{
 "cells": [
  {
   "cell_type": "code",
   "execution_count": 2,
   "id": "fcedb899-04db-413b-8ac4-52727ce33c65",
   "metadata": {},
   "outputs": [],
   "source": [
    "#!pip install \"ibm-watsonx-ai\" | tail -n 1\n",
    "#!pip install -U \"langchain>=0.3,<0.4\" | tail -n 1\n",
    "#!pip install -U \"langchain_ibm>=0.3,<0.4\" | tail -n 1\n",
    "#!pip install python-dotenv"
   ]
  },
  {
   "cell_type": "code",
   "execution_count": 3,
   "id": "7cbd4332-acf3-43a7-998e-e5e3f9bacbd1",
   "metadata": {},
   "outputs": [],
   "source": [
    "import os\n",
    "from dotenv import load_dotenv\n",
    "import getpass\n",
    "\n",
    "# Load environment variables from .env file\n",
    "load_dotenv()\n",
    "\n",
    "# Retrieve credentials\n",
    "project_id = os.getenv(\"PROJECT_ID\")\n",
    "credentials = {\n",
    "    \"url\": os.getenv(\"URL\"),\n",
    "    \"apikey\": os.getenv(\"APIKEY\")\n",
    "}"
   ]
  },
  {
   "cell_type": "code",
   "execution_count": 4,
   "id": "f80c1de6-2cf4-419f-a081-cf8123c8d0a3",
   "metadata": {},
   "outputs": [
    {
     "name": "stdout",
     "output_type": "stream",
     "text": [
      "['FLAN_T5_XXL', 'FLAN_UL2', 'MT0_XXL', 'GPT_NEOX', 'MPT_7B_INSTRUCT2', 'STARCODER', 'LLAMA_2_70B_CHAT', 'LLAMA_2_13B_CHAT', 'GRANITE_13B_INSTRUCT', 'GRANITE_13B_CHAT', 'FLAN_T5_XL', 'GRANITE_13B_CHAT_V2', 'GRANITE_13B_INSTRUCT_V2', 'ELYZA_JAPANESE_LLAMA_2_7B_INSTRUCT', 'MIXTRAL_8X7B_INSTRUCT_V01_Q', 'CODELLAMA_34B_INSTRUCT_HF', 'GRANITE_20B_MULTILINGUAL', 'MERLINITE_7B', 'GRANITE_20B_CODE_INSTRUCT', 'GRANITE_34B_CODE_INSTRUCT', 'GRANITE_3B_CODE_INSTRUCT', 'GRANITE_7B_LAB', 'GRANITE_8B_CODE_INSTRUCT', 'LLAMA_3_70B_INSTRUCT', 'LLAMA_3_8B_INSTRUCT', 'MIXTRAL_8X7B_INSTRUCT_V01']\n"
     ]
    }
   ],
   "source": [
    "from ibm_watsonx_ai.foundation_models.utils.enums import ModelTypes\n",
    "\n",
    "print([model.name for model in ModelTypes])"
   ]
  },
  {
   "cell_type": "code",
   "execution_count": 25,
   "id": "a5432eb7-371b-4626-9a11-e66e54648148",
   "metadata": {},
   "outputs": [],
   "source": [
    "#model_id_1 = ModelTypes.FLAN_UL2.value\n",
    "#model_id_2 = ModelTypes.FLAN_T5_XXL.value\n",
    "\n",
    "\n",
    "model_id_1 = \"ibm/granite-13b-instruct-v2\" \n",
    "model_id_2 = \"ibm/granite-20b-code-instruct\" "
   ]
  },
  {
   "cell_type": "code",
   "execution_count": 26,
   "id": "2513259f-1e71-45a9-952f-ef8bd842b8c5",
   "metadata": {},
   "outputs": [
    {
     "name": "stdout",
     "output_type": "stream",
     "text": [
      "ibm/granite-13b-instruct-v2\n",
      "ibm/granite-20b-code-instruct\n"
     ]
    }
   ],
   "source": [
    "print(model_id_1)\n",
    "print(model_id_2)"
   ]
  },
  {
   "cell_type": "code",
   "execution_count": 36,
   "id": "1934218a-6aba-479b-986b-260c9f6982cd",
   "metadata": {},
   "outputs": [],
   "source": [
    "from ibm_watsonx_ai.metanames import GenTextParamsMetaNames as GenParams\n",
    "from ibm_watsonx_ai.foundation_models.utils.enums import DecodingMethods\n",
    "\n",
    "parameters = {\n",
    "    GenParams.DECODING_METHOD: DecodingMethods.SAMPLE.value,\n",
    "    GenParams.MAX_NEW_TOKENS: 200,\n",
    "    GenParams.MIN_NEW_TOKENS: 1,\n",
    "    GenParams.TEMPERATURE: 0.5,\n",
    "    GenParams.TOP_K: 50,\n",
    "    GenParams.TOP_P: 1\n",
    "}"
   ]
  },
  {
   "cell_type": "code",
   "execution_count": 28,
   "id": "de0f843e-7f57-48ae-9abe-c09f4ba5862d",
   "metadata": {},
   "outputs": [
    {
     "name": "stderr",
     "output_type": "stream",
     "text": [
      "/Users/durgaprasad/Desktop/_WEEKEND/DAY4-AI/env3_11/lib/python3.11/site-packages/ibm_watsonx_ai/foundation_models/utils/utils.py:436: LifecycleWarning: Model 'ibm/granite-20b-code-instruct' is in deprecated state from 2025-04-16 until 2025-07-17. IDs of alternative models: None. Further details: https://dataplatform.cloud.ibm.com/docs/content/wsj/analyze-data/fm-model-lifecycle.html?context=wx&audience=wdp\n",
      "  warn(model_state_warning, category=LifecycleWarning)\n"
     ]
    }
   ],
   "source": [
    "from langchain_ibm import WatsonxLLM\n",
    "\n",
    "llm_1 = WatsonxLLM(\n",
    "    model_id=model_id_1,\n",
    "    url=credentials[\"url\"],\n",
    "    apikey=credentials[\"apikey\"],\n",
    "    project_id=project_id,\n",
    "    params=parameters\n",
    "    )\n",
    "llm_2 = WatsonxLLM(\n",
    "    model_id=model_id_2,\n",
    "    url=credentials[\"url\"],\n",
    "    apikey=credentials[\"apikey\"],\n",
    "    project_id=project_id\n",
    "    )"
   ]
  },
  {
   "cell_type": "code",
   "execution_count": 29,
   "id": "ba6a5372-8a53-46bb-979a-3c1cb2a5ae3d",
   "metadata": {},
   "outputs": [],
   "source": [
    "from langchain import PromptTemplate\n",
    "\n",
    "prompt_1 = PromptTemplate(\n",
    "    input_variables=[\"topic\"], \n",
    "    template=\"Generate a random question about {topic}: Question: \"\n",
    ")\n",
    "prompt_2 = PromptTemplate(\n",
    "    input_variables=[\"question\"],\n",
    "    template=\"Answer the following question: {question}\",\n",
    ")"
   ]
  },
  {
   "cell_type": "code",
   "execution_count": 30,
   "id": "91232833-cd7a-4d57-b8e7-236f7a481f04",
   "metadata": {},
   "outputs": [],
   "source": [
    "from langchain.chains import LLMChain\n",
    "\n",
    "chain_1 = LLMChain(llm=llm_1, prompt=prompt_1, output_key='question')\n",
    "chain_2 = LLMChain(llm=llm_2, prompt=prompt_2, output_key='answer')"
   ]
  },
  {
   "cell_type": "code",
   "execution_count": 31,
   "id": "bc81857d-89af-414e-a621-4c5535d96a5c",
   "metadata": {},
   "outputs": [],
   "source": [
    "from langchain.chains import SequentialChain\n",
    "\n",
    "qa = SequentialChain(chains=[chain_1, chain_2], input_variables=[\"topic\"], output_variables=['question', 'answer'], verbose=True)"
   ]
  },
  {
   "cell_type": "code",
   "execution_count": 35,
   "id": "a4899765-28e8-4a7a-8f3f-51c08427de3c",
   "metadata": {},
   "outputs": [
    {
     "name": "stdout",
     "output_type": "stream",
     "text": [
      "\n",
      "\n",
      "\u001b[1m> Entering new SequentialChain chain...\u001b[0m\n",
      "\n",
      "\u001b[1m> Finished chain.\u001b[0m\n"
     ]
    },
    {
     "data": {
      "text/plain": [
       "{'topic': 'Indian cricket world cup 2011',\n",
       " 'question': 'Who will be the opposition for India in their opening match of the 2011 Cricket World Cup?',\n",
       " 'answer': '\\n\\nIndia will play against Pakistan in their opening match of the 201'}"
      ]
     },
     "execution_count": 35,
     "metadata": {},
     "output_type": "execute_result"
    }
   ],
   "source": [
    "qa.invoke({\"topic\": \"Indian cricket world cup 2011\"})"
   ]
  },
  {
   "cell_type": "code",
   "execution_count": null,
   "id": "3bb07947-4399-49e4-ad54-5721d0559ae3",
   "metadata": {},
   "outputs": [],
   "source": []
  }
 ],
 "metadata": {
  "kernelspec": {
   "display_name": "env3_11",
   "language": "python",
   "name": "env3_11"
  },
  "language_info": {
   "codemirror_mode": {
    "name": "ipython",
    "version": 3
   },
   "file_extension": ".py",
   "mimetype": "text/x-python",
   "name": "python",
   "nbconvert_exporter": "python",
   "pygments_lexer": "ipython3",
   "version": "3.11.9"
  }
 },
 "nbformat": 4,
 "nbformat_minor": 5
}
