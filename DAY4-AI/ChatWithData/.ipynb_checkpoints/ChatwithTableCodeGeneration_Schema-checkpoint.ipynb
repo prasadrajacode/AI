{
 "cells": [
  {
   "cell_type": "code",
   "execution_count": 23,
   "metadata": {},
   "outputs": [
    {
     "data": {
      "text/html": [
       "<div>\n",
       "<style scoped>\n",
       "    .dataframe tbody tr th:only-of-type {\n",
       "        vertical-align: middle;\n",
       "    }\n",
       "\n",
       "    .dataframe tbody tr th {\n",
       "        vertical-align: top;\n",
       "    }\n",
       "\n",
       "    .dataframe thead th {\n",
       "        text-align: right;\n",
       "    }\n",
       "</style>\n",
       "<table border=\"1\" class=\"dataframe\">\n",
       "  <thead>\n",
       "    <tr style=\"text-align: right;\">\n",
       "      <th></th>\n",
       "      <th>Model</th>\n",
       "      <th>cost</th>\n",
       "      <th>No of tokens</th>\n",
       "      <th>no of calls</th>\n",
       "      <th>cost in USD (before discount)</th>\n",
       "    </tr>\n",
       "  </thead>\n",
       "  <tbody>\n",
       "    <tr>\n",
       "      <th>0</th>\n",
       "      <td>Codegen</td>\n",
       "      <td>0.0018</td>\n",
       "      <td>10000</td>\n",
       "      <td>1</td>\n",
       "      <td>0.018</td>\n",
       "    </tr>\n",
       "    <tr>\n",
       "      <th>1</th>\n",
       "      <td>Codegen</td>\n",
       "      <td>0.0018</td>\n",
       "      <td>10000</td>\n",
       "      <td>100</td>\n",
       "      <td>1.800</td>\n",
       "    </tr>\n",
       "    <tr>\n",
       "      <th>2</th>\n",
       "      <td>Codegen</td>\n",
       "      <td>0.0018</td>\n",
       "      <td>10000</td>\n",
       "      <td>500</td>\n",
       "      <td>9.000</td>\n",
       "    </tr>\n",
       "    <tr>\n",
       "      <th>3</th>\n",
       "      <td>Codegen</td>\n",
       "      <td>0.0018</td>\n",
       "      <td>10000</td>\n",
       "      <td>1000</td>\n",
       "      <td>18.000</td>\n",
       "    </tr>\n",
       "    <tr>\n",
       "      <th>4</th>\n",
       "      <td>Codegen</td>\n",
       "      <td>0.0018</td>\n",
       "      <td>10000</td>\n",
       "      <td>10000</td>\n",
       "      <td>180.000</td>\n",
       "    </tr>\n",
       "  </tbody>\n",
       "</table>\n",
       "</div>"
      ],
      "text/plain": [
       "     Model    cost  No of tokens  no of calls  cost in USD (before discount)\n",
       "0  Codegen  0.0018         10000            1                          0.018\n",
       "1  Codegen  0.0018         10000          100                          1.800\n",
       "2  Codegen  0.0018         10000          500                          9.000\n",
       "3  Codegen  0.0018         10000         1000                         18.000\n",
       "4  Codegen  0.0018         10000        10000                        180.000"
      ]
     },
     "execution_count": 23,
     "metadata": {},
     "output_type": "execute_result"
    }
   ],
   "source": [
    "import pandas as pd\n",
    "df_1 = pd.read_csv('model_cost.csv')\n",
    "df_1.head()"
   ]
  },
  {
   "cell_type": "code",
   "execution_count": 24,
   "metadata": {},
   "outputs": [],
   "source": [
    "Q1 = \"What is the average cost per model?\"  \n",
    "\n",
    "# {\n",
    "#   \"code\": \"df.groupby('Model')['cost'].mean()\",\n",
    "#   \"answer\": \"The average cost per model is: Model A - $2.00, Model B - $3.50, Model C - $1.80, etc.\"\n",
    "# }\n",
    "\n",
    "\n",
    "Q2 = \"which model is most expensive\"  "
   ]
  },
  {
   "cell_type": "code",
   "execution_count": 25,
   "metadata": {},
   "outputs": [
    {
     "name": "stdout",
     "output_type": "stream",
     "text": [
      "<class 'pandas.core.frame.DataFrame'>\n",
      "RangeIndex: 16 entries, 0 to 15\n",
      "Data columns (total 5 columns):\n",
      " #   Column                         Non-Null Count  Dtype  \n",
      "---  ------                         --------------  -----  \n",
      " 0   Model                          16 non-null     object \n",
      " 1   cost                           16 non-null     float64\n",
      " 2   No of tokens                   16 non-null     int64  \n",
      " 3   no of calls                    16 non-null     int64  \n",
      " 4   cost in USD (before discount)  16 non-null     float64\n",
      "dtypes: float64(2), int64(2), object(1)\n",
      "memory usage: 772.0+ bytes\n"
     ]
    }
   ],
   "source": [
    "schema_data = df_1.info()"
   ]
  },
  {
   "cell_type": "code",
   "execution_count": 26,
   "metadata": {},
   "outputs": [
    {
     "name": "stdout",
     "output_type": "stream",
     "text": [
      "{\n",
      "  \"columns\": [\n",
      "    {\n",
      "      \"name\": \"Model\",\n",
      "      \"type\": \"object\"\n",
      "    },\n",
      "    {\n",
      "      \"name\": \"cost\",\n",
      "      \"type\": \"float64\"\n",
      "    },\n",
      "    {\n",
      "      \"name\": \"No of tokens\",\n",
      "      \"type\": \"int64\"\n",
      "    },\n",
      "    {\n",
      "      \"name\": \"no of calls\",\n",
      "      \"type\": \"int64\"\n",
      "    },\n",
      "    {\n",
      "      \"name\": \"cost in USD (before discount)\",\n",
      "      \"type\": \"float64\"\n",
      "    }\n",
      "  ]\n",
      "}\n"
     ]
    }
   ],
   "source": [
    "import io\n",
    "import json \n",
    "\n",
    "\n",
    "# Extract columns and their data types\n",
    "columns = df_1.columns\n",
    "dtypes = df_1.dtypes\n",
    "\n",
    "# Build the schema as a dictionary\n",
    "schema_data = {\"columns\": []}\n",
    "\n",
    "for col, dtype in zip(columns, dtypes):\n",
    "    schema_data[\"columns\"].append({\n",
    "        \"name\": col,\n",
    "        \"type\": str(dtype)\n",
    "    })\n",
    "\n",
    "# Convert to JSON format\n",
    "schema_json = json.dumps(schema_data, indent=2)\n",
    "\n",
    "# Now you have the schema in JSON format\n",
    "print(schema_json)"
   ]
  },
  {
   "cell_type": "code",
   "execution_count": 39,
   "metadata": {},
   "outputs": [],
   "source": [
    "prompt_json = \"\"\"Here is the input dataframe in JSON format:\n",
    "{schema_json}\n",
    "\n",
    "\n",
    "Please answer the question based on the input dataframe. It provides model cost information.\n",
    "\n",
    "Requirements:\n",
    "- Do NOT generate SQL code.\n",
    "- Do NOT import any new data source.\n",
    "- Use the correct dataframe name.\n",
    "- Use pandas DataFrame methods and column names exactly as provided. (case-sensitive).\n",
    "- Do not create new columns unless explicitly required.\n",
    "- If unsure, prefer using groupby for aggregation over row-wise operations.\n",
    "- Return the answer in JSON format, including the Python Pandas code used to derive the answer.\n",
    "\n",
    "Output Format:\n",
    "{{\n",
    "  \"code\": \"<pandas code here>\",\n",
    "  \"answer\": \"<natural language answer here>\"\n",
    "}}\n",
    "\n",
    "Think step by step before answering.\n",
    "\n",
    "Example Queries and Outputs:\n",
    "\n",
    "1. Query: \"List all unique models available?\"\n",
    "   Output:\n",
    "   {{\n",
    "     \"code\": \"df['Model'].unique().tolist()\",\n",
    "     \"answer\": \"The unique models available are: Model A, Model B, Model C, etc.\"\n",
    "   }}\n",
    "\n",
    "2. Query: \"Which model has the highest cost?\"\n",
    "   Output:\n",
    "   {{\n",
    "     \"code\": \"df.sort_values('cost', ascending=False).iloc[0]\",\n",
    "     \"answer\": \"The model with the highest cost is Model X with a cost of $5,000.\"\n",
    "   }}\n",
    "\n",
    "3. Query: \"Which model processed the highest number of tokens?\"\n",
    "   Output:\n",
    "   {{\n",
    "    \"code\": \"df.sort_values('No of tokens', ascending=False).iloc[0]\",\n",
    "    \"answer\": \"The model that processed the highest number of tokens is Model Z with 5,000,000 tokens.\"\n",
    "   }}\n",
    "\n",
    "Here is the query: {Q}\n",
    "\n",
    "\"\"\"\n"
   ]
  },
  {
   "cell_type": "code",
   "execution_count": 32,
   "metadata": {},
   "outputs": [],
   "source": [
    "from langchain_ibm import WatsonxLLM\n",
    "from ibm_watsonx_ai import Credentials\n",
    "from ibm_watsonx_ai.foundation_models.utils.enums import ModelTypes\n",
    "from ibm_watsonx_ai.metanames import GenTextParamsMetaNames as GenParams\n",
    "from ibm_watsonx_ai.foundation_models.utils.enums import DecodingMethods"
   ]
  },
  {
   "cell_type": "code",
   "execution_count": 33,
   "metadata": {},
   "outputs": [
    {
     "name": "stderr",
     "output_type": "stream",
     "text": [
      "/Users/durgaprasad/Desktop/_WEEKEND/DAY4-AI/env3_11/lib/python3.11/site-packages/ibm_watsonx_ai/foundation_models/utils/utils.py:436: LifecycleWarning: Model 'ibm/granite-34b-code-instruct' is in deprecated state from 2025-04-16 until 2025-07-17. IDs of alternative models: None. Further details: https://dataplatform.cloud.ibm.com/docs/content/wsj/analyze-data/fm-model-lifecycle.html?context=wx&audience=wdp\n",
      "  warn(model_state_warning, category=LifecycleWarning)\n"
     ]
    }
   ],
   "source": [
    "project_id = \"a15722af-476f-4ad2-ad25-090750dd14e2\"  # WatonX project ID\n",
    "\n",
    "credentials = Credentials(\n",
    "    url=\"https://us-south.ml.cloud.ibm.com\",\n",
    "    api_key=\"Nt8BVcy9pRD8bDngmalyAujN02hPV7PsuJu6bpUr6zxN\"\n",
    ")\n",
    "\n",
    "parameters = {\n",
    "    GenParams.DECODING_METHOD: DecodingMethods.GREEDY.value,\n",
    "    GenParams.MAX_NEW_TOKENS: 8000,\n",
    "    GenParams.MIN_NEW_TOKENS: 1,\n",
    "    GenParams.TEMPERATURE: 0.5\n",
    "}\n",
    "watsonx_llm_code = WatsonxLLM(model_id=\"ibm/granite-34b-code-instruct\", \n",
    "                              url=credentials.url,\n",
    "                              apikey=credentials.api_key,\n",
    "                              project_id=project_id,\n",
    "                              params=parameters)"
   ]
  },
  {
   "cell_type": "code",
   "execution_count": 40,
   "metadata": {},
   "outputs": [
    {
     "name": "stdout",
     "output_type": "stream",
     "text": [
      "generations=[[Generation(generation_info={'finish_reason': 'eos_token'}, text=\"\\nHere is the code to answer the query:\\n```python\\ndf['cost per model'] = df['cost'] / df['Model']\\naverage_cost_per_model = df['cost per model'].mean()\\n```\\n\\nThe average cost per model is $200.\")]] llm_output={'token_usage': {'generated_token_count': 63, 'input_token_count': 497}, 'model_id': 'ibm/granite-34b-code-instruct', 'deployment_id': None} run=[RunInfo(run_id=UUID('8d0dad72-a445-40b8-ab87-dfabce0fb7a3'))] type='LLMResult'\n"
     ]
    }
   ],
   "source": [
    "response = watsonx_llm_code.generate([prompt_json.format(schema_json=schema_json, Q='Which model has the highest cost')])\n",
    "\n",
    "generated_text = response.generations[0][0].text\n",
    "\n",
    "print(response)\n"
   ]
  },
  {
   "cell_type": "code",
   "execution_count": 41,
   "metadata": {},
   "outputs": [
    {
     "name": "stdout",
     "output_type": "stream",
     "text": [
      "Code: df['cost per model'] = df['cost'] / df['Model']\n",
      "average_cost_per_model = df['cost per model'].mean()\n",
      "Answer: The average cost per model is $200.\n"
     ]
    }
   ],
   "source": [
    "parts = generated_text.split(\"```python\")\n",
    "code = parts[1].split(\"```\")[0].strip() if len(parts) > 1 else None\n",
    "answer = parts[1].split(\"```\")[1].strip() if len(parts) > 1 else None\n",
    "\n",
    "print(\"Code:\", code)\n",
    "print(\"Answer:\", answer)"
   ]
  },
  {
   "cell_type": "code",
   "execution_count": 10,
   "metadata": {},
   "outputs": [
    {
     "data": {
      "text/html": [
       "<div>\n",
       "<style scoped>\n",
       "    .dataframe tbody tr th:only-of-type {\n",
       "        vertical-align: middle;\n",
       "    }\n",
       "\n",
       "    .dataframe tbody tr th {\n",
       "        vertical-align: top;\n",
       "    }\n",
       "\n",
       "    .dataframe thead th {\n",
       "        text-align: right;\n",
       "    }\n",
       "</style>\n",
       "<table border=\"1\" class=\"dataframe\">\n",
       "  <thead>\n",
       "    <tr style=\"text-align: right;\">\n",
       "      <th></th>\n",
       "      <th>Model</th>\n",
       "      <th>cost</th>\n",
       "      <th>No of tokens</th>\n",
       "      <th>no of calls</th>\n",
       "      <th>cost in USD (before discount)</th>\n",
       "    </tr>\n",
       "  </thead>\n",
       "  <tbody>\n",
       "    <tr>\n",
       "      <th>0</th>\n",
       "      <td>Codegen</td>\n",
       "      <td>0.0018</td>\n",
       "      <td>10000</td>\n",
       "      <td>1</td>\n",
       "      <td>0.018</td>\n",
       "    </tr>\n",
       "    <tr>\n",
       "      <th>1</th>\n",
       "      <td>Codegen</td>\n",
       "      <td>0.0018</td>\n",
       "      <td>10000</td>\n",
       "      <td>100</td>\n",
       "      <td>1.800</td>\n",
       "    </tr>\n",
       "    <tr>\n",
       "      <th>2</th>\n",
       "      <td>Codegen</td>\n",
       "      <td>0.0018</td>\n",
       "      <td>10000</td>\n",
       "      <td>500</td>\n",
       "      <td>9.000</td>\n",
       "    </tr>\n",
       "    <tr>\n",
       "      <th>3</th>\n",
       "      <td>Codegen</td>\n",
       "      <td>0.0018</td>\n",
       "      <td>10000</td>\n",
       "      <td>1000</td>\n",
       "      <td>18.000</td>\n",
       "    </tr>\n",
       "    <tr>\n",
       "      <th>4</th>\n",
       "      <td>Codegen</td>\n",
       "      <td>0.0018</td>\n",
       "      <td>10000</td>\n",
       "      <td>10000</td>\n",
       "      <td>180.000</td>\n",
       "    </tr>\n",
       "  </tbody>\n",
       "</table>\n",
       "</div>"
      ],
      "text/plain": [
       "     Model    cost  No of tokens  no of calls  cost in USD (before discount)\n",
       "0  Codegen  0.0018         10000            1                          0.018\n",
       "1  Codegen  0.0018         10000          100                          1.800\n",
       "2  Codegen  0.0018         10000          500                          9.000\n",
       "3  Codegen  0.0018         10000         1000                         18.000\n",
       "4  Codegen  0.0018         10000        10000                        180.000"
      ]
     },
     "execution_count": 10,
     "metadata": {},
     "output_type": "execute_result"
    }
   ],
   "source": [
    "df= df_1\n",
    "df.head()"
   ]
  },
  {
   "cell_type": "code",
   "execution_count": 34,
   "metadata": {},
   "outputs": [
    {
     "data": {
      "text/plain": [
       "0.0018"
      ]
     },
     "execution_count": 34,
     "metadata": {},
     "output_type": "execute_result"
    }
   ],
   "source": [
    "df[df['Model'] == 'Codegen']['cost'].mean()"
   ]
  },
  {
   "cell_type": "code",
   "execution_count": 35,
   "metadata": {},
   "outputs": [
    {
     "data": {
      "text/plain": [
       "0.0018"
      ]
     },
     "execution_count": 35,
     "metadata": {},
     "output_type": "execute_result"
    }
   ],
   "source": [
    "result = eval(code) \n",
    "result"
   ]
  },
  {
   "cell_type": "code",
   "execution_count": null,
   "metadata": {},
   "outputs": [],
   "source": []
  }
 ],
 "metadata": {
  "kernelspec": {
   "display_name": "env3_11",
   "language": "python",
   "name": "env3_11"
  },
  "language_info": {
   "codemirror_mode": {
    "name": "ipython",
    "version": 3
   },
   "file_extension": ".py",
   "mimetype": "text/x-python",
   "name": "python",
   "nbconvert_exporter": "python",
   "pygments_lexer": "ipython3",
   "version": "3.11.9"
  }
 },
 "nbformat": 4,
 "nbformat_minor": 4
}
