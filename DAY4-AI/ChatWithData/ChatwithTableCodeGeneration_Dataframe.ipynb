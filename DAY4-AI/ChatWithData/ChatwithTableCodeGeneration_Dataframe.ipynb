{
 "cells": [
  {
   "cell_type": "code",
   "execution_count": 17,
   "metadata": {},
   "outputs": [
    {
     "data": {
      "text/html": [
       "<div>\n",
       "<style scoped>\n",
       "    .dataframe tbody tr th:only-of-type {\n",
       "        vertical-align: middle;\n",
       "    }\n",
       "\n",
       "    .dataframe tbody tr th {\n",
       "        vertical-align: top;\n",
       "    }\n",
       "\n",
       "    .dataframe thead th {\n",
       "        text-align: right;\n",
       "    }\n",
       "</style>\n",
       "<table border=\"1\" class=\"dataframe\">\n",
       "  <thead>\n",
       "    <tr style=\"text-align: right;\">\n",
       "      <th></th>\n",
       "      <th>Model</th>\n",
       "      <th>cost</th>\n",
       "      <th>No of tokens</th>\n",
       "      <th>no of calls</th>\n",
       "      <th>cost in USD (before discount)</th>\n",
       "    </tr>\n",
       "  </thead>\n",
       "  <tbody>\n",
       "    <tr>\n",
       "      <th>0</th>\n",
       "      <td>Codegen</td>\n",
       "      <td>0.0018</td>\n",
       "      <td>10000</td>\n",
       "      <td>1</td>\n",
       "      <td>0.018</td>\n",
       "    </tr>\n",
       "    <tr>\n",
       "      <th>1</th>\n",
       "      <td>Codegen</td>\n",
       "      <td>0.0018</td>\n",
       "      <td>10000</td>\n",
       "      <td>100</td>\n",
       "      <td>1.800</td>\n",
       "    </tr>\n",
       "    <tr>\n",
       "      <th>2</th>\n",
       "      <td>Codegen</td>\n",
       "      <td>0.0018</td>\n",
       "      <td>10000</td>\n",
       "      <td>500</td>\n",
       "      <td>9.000</td>\n",
       "    </tr>\n",
       "    <tr>\n",
       "      <th>3</th>\n",
       "      <td>Codegen</td>\n",
       "      <td>0.0018</td>\n",
       "      <td>10000</td>\n",
       "      <td>1000</td>\n",
       "      <td>18.000</td>\n",
       "    </tr>\n",
       "    <tr>\n",
       "      <th>4</th>\n",
       "      <td>Codegen</td>\n",
       "      <td>0.0018</td>\n",
       "      <td>10000</td>\n",
       "      <td>10000</td>\n",
       "      <td>180.000</td>\n",
       "    </tr>\n",
       "  </tbody>\n",
       "</table>\n",
       "</div>"
      ],
      "text/plain": [
       "     Model    cost  No of tokens  no of calls  cost in USD (before discount)\n",
       "0  Codegen  0.0018         10000            1                          0.018\n",
       "1  Codegen  0.0018         10000          100                          1.800\n",
       "2  Codegen  0.0018         10000          500                          9.000\n",
       "3  Codegen  0.0018         10000         1000                         18.000\n",
       "4  Codegen  0.0018         10000        10000                        180.000"
      ]
     },
     "execution_count": 17,
     "metadata": {},
     "output_type": "execute_result"
    }
   ],
   "source": [
    "import pandas as pd\n",
    "df_1 = pd.read_csv('model_cost.csv')\n",
    "df_1.head()"
   ]
  },
  {
   "cell_type": "code",
   "execution_count": 18,
   "metadata": {},
   "outputs": [],
   "source": [
    "Q1 = \"What is the unit cost for model Codegen?\"  \n",
    "Q2 = \"which model is most expensive\"  \n",
    "Q3 = \"how much ZenCode will cost for 20000 no of calls\"  \n",
    "Q4 = \"create a line chart showing the cost of the 'MyCode' model based on the number of calls and cost\"  \n",
    "Q5 = \"Summarize the data in 100 words.\"  \n",
    "Q6 = 'List down the models for EMEA?'  \n",
    "Q7 = 'Which is the most expensive model in EMEA?'  "
   ]
  },
  {
   "cell_type": "code",
   "execution_count": 19,
   "metadata": {},
   "outputs": [
    {
     "data": {
      "text/plain": [
       "'[{\"Model\":\"Codegen\",\"cost\":0.0018,\"No of tokens\":10000,\"no of calls\":1,\"cost in USD (before discount)\":0.018},{\"Model\":\"Codegen\",\"cost\":0.0018,\"No of tokens\":10000,\"no of calls\":100,\"cost in USD (before discount)\":1.8},{\"Model\":\"Codegen\",\"cost\":0.0018,\"No of tokens\":10000,\"no of calls\":500,\"cost in USD (before discount)\":9.0},{\"Model\":\"Codegen\",\"cost\":0.0018,\"No of tokens\":10000,\"no of calls\":1000,\"cost in USD (before discount)\":18.0},{\"Model\":\"Codegen\",\"cost\":0.0018,\"No of tokens\":10000,\"no of calls\":10000,\"cost in USD (before discount)\":180.0},{\"Model\":\"ZenCode\",\"cost\":0.0006,\"No of tokens\":10000,\"no of calls\":1,\"cost in USD (before discount)\":0.006},{\"Model\":\"ZenCode\",\"cost\":0.0006,\"No of tokens\":10000,\"no of calls\":100,\"cost in USD (before discount)\":0.6},{\"Model\":\"ZenCode\",\"cost\":0.0006,\"No of tokens\":10000,\"no of calls\":500,\"cost in USD (before discount)\":3.0},{\"Model\":\"ZenCode\",\"cost\":0.0006,\"No of tokens\":10000,\"no of calls\":1000,\"cost in USD (before discount)\":6.0},{\"Model\":\"ZenCode\",\"cost\":0.0006,\"No of tokens\":10000,\"no of calls\":10000,\"cost in USD (before discount)\":60.0},{\"Model\":\"MyCode\",\"cost\":0.0025,\"No of tokens\":10000,\"no of calls\":1,\"cost in USD (before discount)\":0.025},{\"Model\":\"MyCode\",\"cost\":0.0025,\"No of tokens\":10000,\"no of calls\":99,\"cost in USD (before discount)\":2.475},{\"Model\":\"MyCode\",\"cost\":0.002,\"No of tokens\":10000,\"no of calls\":100,\"cost in USD (before discount)\":2.0},{\"Model\":\"MyCode\",\"cost\":0.002,\"No of tokens\":10000,\"no of calls\":999,\"cost in USD (before discount)\":19.98},{\"Model\":\"MyCode\",\"cost\":0.0015,\"No of tokens\":10000,\"no of calls\":1000,\"cost in USD (before discount)\":15.0},{\"Model\":\"MyCode\",\"cost\":0.0015,\"No of tokens\":10000,\"no of calls\":10000,\"cost in USD (before discount)\":150.0}]'"
      ]
     },
     "execution_count": 19,
     "metadata": {},
     "output_type": "execute_result"
    }
   ],
   "source": [
    "json_data_1 = df_1.to_json(orient='records')\n",
    "json_data_1"
   ]
  },
  {
   "cell_type": "code",
   "execution_count": 20,
   "metadata": {},
   "outputs": [],
   "source": [
    "prompt_json = \"\"\"Here is the input dataframe in JSON format:\n",
    "{json_data}\n",
    "Please answer the question based on the input dataframe. It provides model cost information.\n",
    " Don't generate SQL code.\n",
    " Don't import a new data source.\n",
    " Use the correct dataframe name.\n",
    " Use the exact column names as they appear in the dataframe without changing the case.\n",
    " Return the answer in JSON format, including the Python Pandas code used to derive the answer.\n",
    " \n",
    "Example Output Format:\n",
    "{{\n",
    "  \"code\": \"df[['Model', 'cost']].sort_values(by='cost', ascending=False).head(1)\",\n",
    "  \"answer\": \"The model with the highest cost is 'Codegen'.\"\n",
    "}}\n",
    "\n",
    "Think step by step before answering.\n",
    "Here is the query: {Q}\n",
    "\"\"\"\n"
   ]
  },
  {
   "cell_type": "code",
   "execution_count": 21,
   "metadata": {},
   "outputs": [],
   "source": [
    "from langchain_ibm import WatsonxLLM\n",
    "from ibm_watsonx_ai import Credentials\n",
    "from ibm_watsonx_ai.foundation_models.utils.enums import ModelTypes\n",
    "from ibm_watsonx_ai.metanames import GenTextParamsMetaNames as GenParams\n",
    "from ibm_watsonx_ai.foundation_models.utils.enums import DecodingMethods"
   ]
  },
  {
   "cell_type": "code",
   "execution_count": 22,
   "metadata": {},
   "outputs": [
    {
     "name": "stderr",
     "output_type": "stream",
     "text": [
      "/Users/durgaprasad/Desktop/_WEEKEND/DAY4-AI/env3_11/lib/python3.11/site-packages/ibm_watsonx_ai/foundation_models/utils/utils.py:436: LifecycleWarning: Model 'ibm/granite-34b-code-instruct' is in deprecated state from 2025-04-16 until 2025-07-17. IDs of alternative models: None. Further details: https://dataplatform.cloud.ibm.com/docs/content/wsj/analyze-data/fm-model-lifecycle.html?context=wx&audience=wdp\n",
      "  warn(model_state_warning, category=LifecycleWarning)\n"
     ]
    }
   ],
   "source": [
    "project_id = \"a15722af-476f-4ad2-ad25-090750dd14e2\"  # WatonX project ID\n",
    "\n",
    "credentials = Credentials(\n",
    "    url=\"https://us-south.ml.cloud.ibm.com\",\n",
    "    api_key=\"Nt8BVcy9pRD8bDngmalyAujN02hPV7PsuJu6bpUr6zxN\"\n",
    ")\n",
    "\n",
    "parameters = {\n",
    "    GenParams.DECODING_METHOD: DecodingMethods.GREEDY.value,\n",
    "    GenParams.MAX_NEW_TOKENS: 8000,\n",
    "    GenParams.MIN_NEW_TOKENS: 1,\n",
    "    GenParams.TEMPERATURE: 0.5\n",
    "}\n",
    "watsonx_llm_code = WatsonxLLM(model_id=\"ibm/granite-34b-code-instruct\", \n",
    "                              url=credentials.url,\n",
    "                              apikey=credentials.api_key,\n",
    "                              project_id=project_id,\n",
    "                              params=parameters)"
   ]
  },
  {
   "cell_type": "code",
   "execution_count": 23,
   "metadata": {},
   "outputs": [
    {
     "name": "stdout",
     "output_type": "stream",
     "text": [
      "generations=[[Generation(generation_info={'finish_reason': 'eos_token'}, text=\"Here is the code to answer the query:\\n```python\\ndf[df['Model'] == 'Codegen']['cost'].mean()\\n```\\nThe unit cost for model Codegen is 0.0018.\")]] llm_output={'token_usage': {'generated_token_count': 48, 'input_token_count': 896}, 'model_id': 'ibm/granite-34b-code-instruct', 'deployment_id': None} run=[RunInfo(run_id=UUID('13897c95-2f8d-4d24-ab96-7e4a0d6e13c7'))] type='LLMResult'\n"
     ]
    }
   ],
   "source": [
    "response = watsonx_llm_code.generate([prompt_json.format(json_data=json_data_1, Q=Q1)])\n",
    "\n",
    "generated_text = response.generations[0][0].text\n",
    "\n",
    "print(response)\n"
   ]
  },
  {
   "cell_type": "code",
   "execution_count": 24,
   "metadata": {},
   "outputs": [
    {
     "name": "stdout",
     "output_type": "stream",
     "text": [
      "Code: df[df['Model'] == 'Codegen']['cost'].mean()\n",
      "Answer: The unit cost for model Codegen is 0.0018.\n"
     ]
    }
   ],
   "source": [
    "parts = generated_text.split(\"```python\")\n",
    "code = parts[1].split(\"```\")[0].strip() if len(parts) > 1 else None\n",
    "answer = parts[1].split(\"```\")[1].strip() if len(parts) > 1 else None\n",
    "\n",
    "print(\"Code:\", code)\n",
    "print(\"Answer:\", answer)"
   ]
  },
  {
   "cell_type": "code",
   "execution_count": 25,
   "metadata": {},
   "outputs": [
    {
     "data": {
      "text/html": [
       "<div>\n",
       "<style scoped>\n",
       "    .dataframe tbody tr th:only-of-type {\n",
       "        vertical-align: middle;\n",
       "    }\n",
       "\n",
       "    .dataframe tbody tr th {\n",
       "        vertical-align: top;\n",
       "    }\n",
       "\n",
       "    .dataframe thead th {\n",
       "        text-align: right;\n",
       "    }\n",
       "</style>\n",
       "<table border=\"1\" class=\"dataframe\">\n",
       "  <thead>\n",
       "    <tr style=\"text-align: right;\">\n",
       "      <th></th>\n",
       "      <th>Model</th>\n",
       "      <th>cost</th>\n",
       "      <th>No of tokens</th>\n",
       "      <th>no of calls</th>\n",
       "      <th>cost in USD (before discount)</th>\n",
       "    </tr>\n",
       "  </thead>\n",
       "  <tbody>\n",
       "    <tr>\n",
       "      <th>0</th>\n",
       "      <td>Codegen</td>\n",
       "      <td>0.0018</td>\n",
       "      <td>10000</td>\n",
       "      <td>1</td>\n",
       "      <td>0.018</td>\n",
       "    </tr>\n",
       "    <tr>\n",
       "      <th>1</th>\n",
       "      <td>Codegen</td>\n",
       "      <td>0.0018</td>\n",
       "      <td>10000</td>\n",
       "      <td>100</td>\n",
       "      <td>1.800</td>\n",
       "    </tr>\n",
       "    <tr>\n",
       "      <th>2</th>\n",
       "      <td>Codegen</td>\n",
       "      <td>0.0018</td>\n",
       "      <td>10000</td>\n",
       "      <td>500</td>\n",
       "      <td>9.000</td>\n",
       "    </tr>\n",
       "    <tr>\n",
       "      <th>3</th>\n",
       "      <td>Codegen</td>\n",
       "      <td>0.0018</td>\n",
       "      <td>10000</td>\n",
       "      <td>1000</td>\n",
       "      <td>18.000</td>\n",
       "    </tr>\n",
       "    <tr>\n",
       "      <th>4</th>\n",
       "      <td>Codegen</td>\n",
       "      <td>0.0018</td>\n",
       "      <td>10000</td>\n",
       "      <td>10000</td>\n",
       "      <td>180.000</td>\n",
       "    </tr>\n",
       "  </tbody>\n",
       "</table>\n",
       "</div>"
      ],
      "text/plain": [
       "     Model    cost  No of tokens  no of calls  cost in USD (before discount)\n",
       "0  Codegen  0.0018         10000            1                          0.018\n",
       "1  Codegen  0.0018         10000          100                          1.800\n",
       "2  Codegen  0.0018         10000          500                          9.000\n",
       "3  Codegen  0.0018         10000         1000                         18.000\n",
       "4  Codegen  0.0018         10000        10000                        180.000"
      ]
     },
     "execution_count": 25,
     "metadata": {},
     "output_type": "execute_result"
    }
   ],
   "source": [
    "df= df_1\n",
    "df.head()"
   ]
  },
  {
   "cell_type": "code",
   "execution_count": 26,
   "metadata": {},
   "outputs": [
    {
     "data": {
      "text/plain": [
       "np.float64(0.0018)"
      ]
     },
     "execution_count": 26,
     "metadata": {},
     "output_type": "execute_result"
    }
   ],
   "source": [
    "df[df['Model'] == 'Codegen']['cost'].mean()"
   ]
  },
  {
   "cell_type": "code",
   "execution_count": 27,
   "metadata": {},
   "outputs": [
    {
     "data": {
      "text/plain": [
       "np.float64(0.0018)"
      ]
     },
     "execution_count": 27,
     "metadata": {},
     "output_type": "execute_result"
    }
   ],
   "source": [
    "result = eval(code) \n",
    "result"
   ]
  },
  {
   "cell_type": "code",
   "execution_count": null,
   "metadata": {},
   "outputs": [],
   "source": []
  },
  {
   "cell_type": "code",
   "execution_count": null,
   "metadata": {},
   "outputs": [],
   "source": []
  },
  {
   "cell_type": "code",
   "execution_count": null,
   "metadata": {},
   "outputs": [],
   "source": []
  },
  {
   "cell_type": "code",
   "execution_count": null,
   "metadata": {},
   "outputs": [],
   "source": []
  }
 ],
 "metadata": {
  "kernelspec": {
   "display_name": "env3_11",
   "language": "python",
   "name": "env3_11"
  },
  "language_info": {
   "codemirror_mode": {
    "name": "ipython",
    "version": 3
   },
   "file_extension": ".py",
   "mimetype": "text/x-python",
   "name": "python",
   "nbconvert_exporter": "python",
   "pygments_lexer": "ipython3",
   "version": "3.11.9"
  }
 },
 "nbformat": 4,
 "nbformat_minor": 4
}
