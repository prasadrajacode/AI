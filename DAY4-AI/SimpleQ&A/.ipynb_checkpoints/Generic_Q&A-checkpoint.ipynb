{
 "cells": [
  {
   "cell_type": "code",
   "execution_count": 1,
   "metadata": {},
   "outputs": [],
   "source": [
    "#!pip install \"ibm-watsonx-ai\" | tail -n 1\n",
    "#!pip install \"pydantic>=1.10.0\" | tail -n 1\n",
    "#!pip install \"langchain==0.1.8\" | tail -n 1\n",
    "#!pip install \"langchain_ibm==0.1.0\" | tail -n 1\n",
    "#!pip install python-dotenv"
   ]
  },
  {
   "cell_type": "code",
   "execution_count": 2,
   "metadata": {},
   "outputs": [
    {
     "name": "stdout",
     "output_type": "stream",
     "text": [
      "['FLAN_T5_XXL', 'FLAN_UL2', 'MT0_XXL', 'GPT_NEOX', 'MPT_7B_INSTRUCT2', 'STARCODER', 'LLAMA_2_70B_CHAT', 'LLAMA_2_13B_CHAT', 'GRANITE_13B_INSTRUCT', 'GRANITE_13B_CHAT', 'FLAN_T5_XL', 'GRANITE_13B_CHAT_V2', 'GRANITE_13B_INSTRUCT_V2', 'ELYZA_JAPANESE_LLAMA_2_7B_INSTRUCT']\n"
     ]
    }
   ],
   "source": [
    "from ibm_watsonx_ai.foundation_models.utils.enums import ModelTypes\n",
    "print([model.name for model in ModelTypes])"
   ]
  },
  {
   "cell_type": "code",
   "execution_count": 3,
   "metadata": {},
   "outputs": [],
   "source": [
    "model_id_1 = ModelTypes.GRANITE_13B_INSTRUCT_V2.value"
   ]
  },
  {
   "cell_type": "code",
   "execution_count": 4,
   "metadata": {},
   "outputs": [
    {
     "data": {
      "text/plain": [
       "'ibm/granite-13b-instruct-v2'"
      ]
     },
     "execution_count": 4,
     "metadata": {},
     "output_type": "execute_result"
    }
   ],
   "source": [
    "model_id_1"
   ]
  },
  {
   "cell_type": "code",
   "execution_count": 11,
   "metadata": {},
   "outputs": [],
   "source": [
    "import os\n",
    "from dotenv import load_dotenv\n",
    "import getpass\n",
    "\n",
    "# Load environment variables from .env file\n",
    "load_dotenv()\n",
    "\n",
    "# Retrieve credentials\n",
    "url = os.getenv(\"URL\")\n",
    "apikey = os.getenv(\"APIKEY\")\n",
    "project_id = os.getenv(\"PROJECT_ID\")\n",
    "\n",
    "_credentials = {\n",
    "    \"url\": url,\n",
    "    \"apikey\": apikey\n",
    "}\n",
    "\n",
    "_project_id= project_id\n",
    "\n"
   ]
  },
  {
   "cell_type": "code",
   "execution_count": 6,
   "metadata": {},
   "outputs": [],
   "source": [
    "from ibm_watsonx_ai.metanames import GenTextParamsMetaNames as GenParams\n",
    "from ibm_watsonx_ai.foundation_models.utils.enums import DecodingMethods\n",
    "\n",
    "_parameters = {\n",
    "    GenParams.DECODING_METHOD: DecodingMethods.SAMPLE.value,\n",
    "    GenParams.MAX_NEW_TOKENS: 20,\n",
    "    GenParams.MIN_NEW_TOKENS: 1,\n",
    "    GenParams.TEMPERATURE: 0.5,\n",
    "    GenParams.TOP_K: 50,\n",
    "    GenParams.TOP_P: 1\n",
    "}"
   ]
  },
  {
   "cell_type": "markdown",
   "metadata": {},
   "source": [
    "# Using Model Inference"
   ]
  },
  {
   "cell_type": "code",
   "execution_count": 7,
   "metadata": {},
   "outputs": [
    {
     "name": "stdout",
     "output_type": "stream",
     "text": [
      "Colombo\n"
     ]
    }
   ],
   "source": [
    "from ibm_watsonx_ai.foundation_models import ModelInference\n",
    "\n",
    "# Initialize the ModelInference with the correct parameters\n",
    "model_inference = ModelInference(\n",
    "    model_id= model_id_1,  # The ID of the model you want to use\n",
    "    credentials = _credentials,\n",
    "    project_id=_project_id,\n",
    ")\n",
    "\n",
    "\n",
    "\n",
    "# Define your prompt template\n",
    "prompt_template = \"Please answer with single word and dont provide any additional information. what is capital of Sri Lanka ?\"\n",
    "\n",
    "# Generate text using the ModelInference class\n",
    "response = model_inference.generate_text(\n",
    "    prompt=prompt_template,\n",
    "    params=_parameters\n",
    ")\n",
    "\n",
    "# Print the generated text\n",
    "print(response)"
   ]
  },
  {
   "cell_type": "markdown",
   "metadata": {},
   "source": [
    "# Using API Client"
   ]
  },
  {
   "cell_type": "code",
   "execution_count": 12,
   "metadata": {},
   "outputs": [
    {
     "ename": "TypeError",
     "evalue": "APIClient.__init__() got an unexpected keyword argument 'credentials'",
     "output_type": "error",
     "traceback": [
      "\u001b[0;31m---------------------------------------------------------------------------\u001b[0m",
      "\u001b[0;31mTypeError\u001b[0m                                 Traceback (most recent call last)",
      "Cell \u001b[0;32mIn[12], line 3\u001b[0m\n\u001b[1;32m      1\u001b[0m \u001b[38;5;28;01mfrom\u001b[39;00m\u001b[38;5;250m \u001b[39m\u001b[38;5;21;01mibm_watsonx_ai\u001b[39;00m\u001b[38;5;250m \u001b[39m\u001b[38;5;28;01mimport\u001b[39;00m APIClient\n\u001b[0;32m----> 3\u001b[0m api_client \u001b[38;5;241m=\u001b[39m \u001b[43mAPIClient\u001b[49m\u001b[43m(\u001b[49m\n\u001b[1;32m      4\u001b[0m \u001b[43m    \u001b[49m\u001b[43mcredentials\u001b[49m\u001b[38;5;241;43m=\u001b[39;49m\u001b[43m_credentials\u001b[49m\u001b[43m,\u001b[49m\n\u001b[1;32m      5\u001b[0m \u001b[43m    \u001b[49m\u001b[43mproject_id\u001b[49m\u001b[38;5;241;43m=\u001b[39;49m\u001b[43m_project_id\u001b[49m\n\u001b[1;32m      6\u001b[0m \u001b[43m)\u001b[49m\n\u001b[1;32m      8\u001b[0m model_id \u001b[38;5;241m=\u001b[39m model_id_1  \n\u001b[1;32m      9\u001b[0m parameters \u001b[38;5;241m=\u001b[39m _parameters\n",
      "\u001b[0;31mTypeError\u001b[0m: APIClient.__init__() got an unexpected keyword argument 'credentials'"
     ]
    }
   ],
   "source": [
    "from ibm_watsonx_ai import APIClient\n",
    "\n",
    "\n",
    "config = {\n",
    "    \"url\": os.getenv(\"URL\"),  # Example: \"https://us-south.ml.cloud.ibm.com\"\n",
    "    \"apikey\": os.getenv(\"APIKEY\"),\n",
    "    \"project_id\": os.getenv(\"PROJECT_ID\")\n",
    "}\n",
    "\n",
    "\n",
    "api_client = APIClient(\n",
    "    config=config\n",
    ")\n",
    "\n",
    "model_id = model_id_1  \n",
    "parameters = _parameters\n",
    "\n",
    "# Define your prompt\n",
    "prompt = \"Please answer with single word and dont provide any additional information. what is capital of Sri Lanka ?\"\n",
    "\n",
    "# Generate the response\n",
    "response = api_client.foundation_models.generate(\n",
    "    model_id=model_id,\n",
    "    input=prompt,\n",
    "    params=parameters\n",
    ")\n",
    "\n",
    "# Print the generated response\n",
    "print(response)\n"
   ]
  },
  {
   "cell_type": "code",
   "execution_count": null,
   "metadata": {},
   "outputs": [],
   "source": []
  }
 ],
 "metadata": {
  "kernelspec": {
   "display_name": "env3_10",
   "language": "python",
   "name": "env3_10"
  },
  "language_info": {
   "codemirror_mode": {
    "name": "ipython",
    "version": 3
   },
   "file_extension": ".py",
   "mimetype": "text/x-python",
   "name": "python",
   "nbconvert_exporter": "python",
   "pygments_lexer": "ipython3",
   "version": "3.10.14"
  }
 },
 "nbformat": 4,
 "nbformat_minor": 4
}
